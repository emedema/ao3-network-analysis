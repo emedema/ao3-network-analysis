{
 "cells": [
  {
   "cell_type": "markdown",
   "id": "1f46f0b2-9df5-4726-bd55-309cbe44af20",
   "metadata": {},
   "source": [
    "# Social Network Analysis\n",
    "## AO3 User Bookmarks\n",
    "\n",
    "The following is an analysis of the network created by users bookmarking fics on AO3.\n",
    "\n",
    "We used the [Social Network Analysis with Python](\"https://www.kirenz.com/post/2019-08-13-network_analysis/\") article by Jan Kirenz as a reference for our analysis."
   ]
  },
  {
   "cell_type": "code",
   "execution_count": 2,
   "id": "8ff756cd-3372-4c0f-a30c-20888abfcefb",
   "metadata": {},
   "outputs": [],
   "source": [
    "#imports\n",
    "import networkx as nx\n",
    "import matplotlib.pyplot as plt\n",
    "%matplotlib inline\n",
    "import warnings; warnings.simplefilter('ignore')\n",
    "import json\n",
    "import pandas as pd"
   ]
  },
  {
   "cell_type": "markdown",
   "id": "a0e33f67-68dc-4da0-a8c2-c15dd528a33c",
   "metadata": {},
   "source": [
    "First we must read in our data and format it so that we can make a graph of the data."
   ]
  },
  {
   "cell_type": "code",
   "execution_count": null,
   "id": "c73d5c48-24da-47a4-91b4-345e4c3fe896",
   "metadata": {},
   "outputs": [],
   "source": [
    "#read in data\n",
    "\n",
    "with open(\"../ao3bot/user_bookmarks_final.json\", \"r\") as f:\n",
    "    temp_list = json.load(f)"
   ]
  }
 ],
 "metadata": {
  "kernelspec": {
   "display_name": "Python 3 (ipykernel)",
   "language": "python",
   "name": "python3"
  },
  "language_info": {
   "codemirror_mode": {
    "name": "ipython",
    "version": 3
   },
   "file_extension": ".py",
   "mimetype": "text/x-python",
   "name": "python",
   "nbconvert_exporter": "python",
   "pygments_lexer": "ipython3",
   "version": "3.9.5"
  }
 },
 "nbformat": 4,
 "nbformat_minor": 5
}
