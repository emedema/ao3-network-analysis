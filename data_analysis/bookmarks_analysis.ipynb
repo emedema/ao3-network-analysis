{
 "cells": [
  {
   "cell_type": "markdown",
   "id": "1f46f0b2-9df5-4726-bd55-309cbe44af20",
   "metadata": {},
   "source": [
    "# Social Network Analysis\n",
    "## AO3 User Bookmarks\n",
    "\n",
    "The following is an analysis of the network created by users bookmarking fics on AO3.\n",
    "\n",
    "We used the [Social Network Analysis with Python](\"https://www.kirenz.com/post/2019-08-13-network_analysis/\") article by Jan Kirenz as a reference for our analysis."
   ]
  },
  {
   "cell_type": "code",
   "execution_count": 1,
   "id": "8ff756cd-3372-4c0f-a30c-20888abfcefb",
   "metadata": {},
   "outputs": [],
   "source": [
    "#imports\n",
    "import networkx as nx\n",
    "import matplotlib.pyplot as plt\n",
    "%matplotlib inline\n",
    "import warnings; warnings.simplefilter('ignore')\n",
    "import json\n",
    "import pandas as pd"
   ]
  },
  {
   "cell_type": "markdown",
   "id": "a0e33f67-68dc-4da0-a8c2-c15dd528a33c",
   "metadata": {},
   "source": [
    "First we must read in our data and format it so that we can make a graph of the data."
   ]
  },
  {
   "cell_type": "code",
   "execution_count": 2,
   "id": "c73d5c48-24da-47a4-91b4-345e4c3fe896",
   "metadata": {},
   "outputs": [
    {
     "data": {
      "text/html": [
       "<div>\n",
       "<style scoped>\n",
       "    .dataframe tbody tr th:only-of-type {\n",
       "        vertical-align: middle;\n",
       "    }\n",
       "\n",
       "    .dataframe tbody tr th {\n",
       "        vertical-align: top;\n",
       "    }\n",
       "\n",
       "    .dataframe thead th {\n",
       "        text-align: right;\n",
       "    }\n",
       "</style>\n",
       "<table border=\"1\" class=\"dataframe\">\n",
       "  <thead>\n",
       "    <tr style=\"text-align: right;\">\n",
       "      <th></th>\n",
       "      <th>fandom</th>\n",
       "      <th>total_bookmarks</th>\n",
       "      <th>users</th>\n",
       "      <th>fic_info</th>\n",
       "    </tr>\n",
       "  </thead>\n",
       "  <tbody>\n",
       "    <tr>\n",
       "      <th>0</th>\n",
       "      <td>僕のヒーローアカデミア | Boku no Hero Academia | My Hero ...</td>\n",
       "      <td>16100</td>\n",
       "      <td>[{'user_link': '/users/whole_grain_bagel/pseud...</td>\n",
       "      <td>{'fic_link': '/works/8337607', 'fic_name': 'Ye...</td>\n",
       "    </tr>\n",
       "    <tr>\n",
       "      <th>1</th>\n",
       "      <td>Haikyuu!!</td>\n",
       "      <td>11388</td>\n",
       "      <td>[{'user_link': '/users/artisticDragon074639/ps...</td>\n",
       "      <td>{'fic_link': '/works/5096105', 'fic_name': 'In...</td>\n",
       "    </tr>\n",
       "    <tr>\n",
       "      <th>2</th>\n",
       "      <td>Naruto</td>\n",
       "      <td>8451</td>\n",
       "      <td>[{'user_link': '/users/AllCrush/pseuds/AllCrus...</td>\n",
       "      <td>{'fic_link': '/works/8211566', 'fic_name': 'Of...</td>\n",
       "    </tr>\n",
       "    <tr>\n",
       "      <th>3</th>\n",
       "      <td>Shingeki no Kyojin | Attack on Titan</td>\n",
       "      <td>3809</td>\n",
       "      <td>[{'user_link': '/users/Frank_boi/pseuds/Frank_...</td>\n",
       "      <td>{'fic_link': '/works/2336534', 'fic_name': 'Ei...</td>\n",
       "    </tr>\n",
       "    <tr>\n",
       "      <th>4</th>\n",
       "      <td>Miraculous Ladybug</td>\n",
       "      <td>4335</td>\n",
       "      <td>[{'user_link': '/users/cook999/pseuds/cook999'...</td>\n",
       "      <td>{'fic_link': '/works/7568518', 'fic_name': 'Pi...</td>\n",
       "    </tr>\n",
       "  </tbody>\n",
       "</table>\n",
       "</div>"
      ],
      "text/plain": [
       "                                              fandom  total_bookmarks  \\\n",
       "0  僕のヒーローアカデミア | Boku no Hero Academia | My Hero ...            16100   \n",
       "1                                          Haikyuu!!            11388   \n",
       "2                                             Naruto             8451   \n",
       "3               Shingeki no Kyojin | Attack on Titan             3809   \n",
       "4                                 Miraculous Ladybug             4335   \n",
       "\n",
       "                                               users  \\\n",
       "0  [{'user_link': '/users/whole_grain_bagel/pseud...   \n",
       "1  [{'user_link': '/users/artisticDragon074639/ps...   \n",
       "2  [{'user_link': '/users/AllCrush/pseuds/AllCrus...   \n",
       "3  [{'user_link': '/users/Frank_boi/pseuds/Frank_...   \n",
       "4  [{'user_link': '/users/cook999/pseuds/cook999'...   \n",
       "\n",
       "                                            fic_info  \n",
       "0  {'fic_link': '/works/8337607', 'fic_name': 'Ye...  \n",
       "1  {'fic_link': '/works/5096105', 'fic_name': 'In...  \n",
       "2  {'fic_link': '/works/8211566', 'fic_name': 'Of...  \n",
       "3  {'fic_link': '/works/2336534', 'fic_name': 'Ei...  \n",
       "4  {'fic_link': '/works/7568518', 'fic_name': 'Pi...  "
      ]
     },
     "execution_count": 2,
     "metadata": {},
     "output_type": "execute_result"
    }
   ],
   "source": [
    "#read in data\n",
    "topfic_bookmarks = pd.read_json('../ao3bot/top_fic_bookmarks.json')\n",
    "topfic_bookmarks.head()\n"
   ]
  },
  {
   "cell_type": "code",
   "execution_count": 3,
   "id": "cdd1b11d-3eb8-44a1-b479-9dfc81221597",
   "metadata": {},
   "outputs": [
    {
     "data": {
      "text/html": [
       "<div>\n",
       "<style scoped>\n",
       "    .dataframe tbody tr th:only-of-type {\n",
       "        vertical-align: middle;\n",
       "    }\n",
       "\n",
       "    .dataframe tbody tr th {\n",
       "        vertical-align: top;\n",
       "    }\n",
       "\n",
       "    .dataframe thead th {\n",
       "        text-align: right;\n",
       "    }\n",
       "</style>\n",
       "<table border=\"1\" class=\"dataframe\">\n",
       "  <thead>\n",
       "    <tr style=\"text-align: right;\">\n",
       "      <th></th>\n",
       "      <th>user</th>\n",
       "      <th>fic_info</th>\n",
       "      <th>fandoms</th>\n",
       "      <th>user_stats</th>\n",
       "    </tr>\n",
       "  </thead>\n",
       "  <tbody>\n",
       "    <tr>\n",
       "      <th>0</th>\n",
       "      <td>Watermelonflooff</td>\n",
       "      <td>[[{'fic_link': '/works/8337607', 'fic_name': '...</td>\n",
       "      <td>[[{'fandom_link': '/tags/%E5%83%95%E3%81%AE%E3...</td>\n",
       "      <td>{'total_bookmarks': 18, 'ratings': {'Explicit'...</td>\n",
       "    </tr>\n",
       "    <tr>\n",
       "      <th>1</th>\n",
       "      <td>SanguineRoar</td>\n",
       "      <td>[[{'fic_link': '/works/24273403', 'fic_name': ...</td>\n",
       "      <td>[[{'fandom_link': '/tags/%E5%83%95%E3%81%AE%E3...</td>\n",
       "      <td>{'total_bookmarks': 263, 'ratings': {'Explicit...</td>\n",
       "    </tr>\n",
       "    <tr>\n",
       "      <th>2</th>\n",
       "      <td>duhvy</td>\n",
       "      <td>[[{'fic_link': '/works/8337607', 'fic_name': '...</td>\n",
       "      <td>[[{'fandom_link': '/tags/%E5%83%95%E3%81%AE%E3...</td>\n",
       "      <td>{'total_bookmarks': 53, 'ratings': {'Teen And ...</td>\n",
       "    </tr>\n",
       "    <tr>\n",
       "      <th>3</th>\n",
       "      <td>Sther_2515</td>\n",
       "      <td>[[{'fic_link': '/works/8337607', 'fic_name': '...</td>\n",
       "      <td>[[{'fandom_link': '/tags/%E5%83%95%E3%81%AE%E3...</td>\n",
       "      <td>{'total_bookmarks': 143, 'ratings': {'Teen And...</td>\n",
       "    </tr>\n",
       "    <tr>\n",
       "      <th>4</th>\n",
       "      <td>BlackCat666</td>\n",
       "      <td>[[{'fic_link': '/series/56292', 'fic_name': 'T...</td>\n",
       "      <td>[[{'fandom_link': '/tags/Teen%20Wolf%20(TV)/wo...</td>\n",
       "      <td>{'total_bookmarks': 410, 'ratings': {'Teen And...</td>\n",
       "    </tr>\n",
       "  </tbody>\n",
       "</table>\n",
       "</div>"
      ],
      "text/plain": [
       "               user                                           fic_info  \\\n",
       "0  Watermelonflooff  [[{'fic_link': '/works/8337607', 'fic_name': '...   \n",
       "1      SanguineRoar  [[{'fic_link': '/works/24273403', 'fic_name': ...   \n",
       "2             duhvy  [[{'fic_link': '/works/8337607', 'fic_name': '...   \n",
       "3        Sther_2515  [[{'fic_link': '/works/8337607', 'fic_name': '...   \n",
       "4       BlackCat666  [[{'fic_link': '/series/56292', 'fic_name': 'T...   \n",
       "\n",
       "                                             fandoms  \\\n",
       "0  [[{'fandom_link': '/tags/%E5%83%95%E3%81%AE%E3...   \n",
       "1  [[{'fandom_link': '/tags/%E5%83%95%E3%81%AE%E3...   \n",
       "2  [[{'fandom_link': '/tags/%E5%83%95%E3%81%AE%E3...   \n",
       "3  [[{'fandom_link': '/tags/%E5%83%95%E3%81%AE%E3...   \n",
       "4  [[{'fandom_link': '/tags/Teen%20Wolf%20(TV)/wo...   \n",
       "\n",
       "                                          user_stats  \n",
       "0  {'total_bookmarks': 18, 'ratings': {'Explicit'...  \n",
       "1  {'total_bookmarks': 263, 'ratings': {'Explicit...  \n",
       "2  {'total_bookmarks': 53, 'ratings': {'Teen And ...  \n",
       "3  {'total_bookmarks': 143, 'ratings': {'Teen And...  \n",
       "4  {'total_bookmarks': 410, 'ratings': {'Teen And...  "
      ]
     },
     "execution_count": 3,
     "metadata": {},
     "output_type": "execute_result"
    }
   ],
   "source": [
    "user_df = pd.read_json('../ao3bot/user_bookmarks_final.json')\n",
    "user_df.head()"
   ]
  },
  {
   "cell_type": "markdown",
   "id": "1921b296-ebbe-4cbc-a44a-98846b1306a8",
   "metadata": {},
   "source": [
    "This data is set up such that in `user_df` we have the `user` whose bookmarks we scraped, the `fic_info` of the bookmarks and the `fandoms` associated with those bookmarks. We also have the general stats of their bookmarks in `user_stats`.\n",
    "\n",
    "In `topfic_bookmarks` we have the information on the top fics in each fandom we have scraped and the users that have bookmarked it. This is the starting file that guiding the scraping for the `user_df` data."
   ]
  },
  {
   "cell_type": "markdown",
   "id": "198e4f7b-b1bd-4d7a-a05e-3a50c0b9cfec",
   "metadata": {},
   "source": [
    "### Common Bookmarks\n",
    "\n",
    "In this analysis we will be looking at the data in this way:\n",
    "- Nodes: Fic\n",
    "- Edges: A user has bookmarked this node (fic) and this node (fic)\n",
    "\n",
    "To do this we will need to wrangle the data into the correct format."
   ]
  },
  {
   "cell_type": "markdown",
   "id": "35600ce0-949a-461f-80cf-57bef45ffa53",
   "metadata": {},
   "source": [
    "We also want a list of nodes:"
   ]
  },
  {
   "cell_type": "code",
   "execution_count": 4,
   "id": "f1ad50f7-2976-4520-b6e7-9b5f5fbe253b",
   "metadata": {},
   "outputs": [
    {
     "name": "stdout",
     "output_type": "stream",
     "text": [
      "8882\n"
     ]
    }
   ],
   "source": [
    "nodes = []\n",
    "nodes_unformatted = []\n",
    "tf_users = topfic_bookmarks[\"users\"].tolist()\n",
    "topfics = topfic_bookmarks[\"fic_info\"].tolist()\n",
    "users = user_df[\"user\"].tolist()\n",
    "count = 1\n",
    "for fic in topfics:\n",
    "    for users in tf_users:\n",
    "        for user in users:\n",
    "            l = user_df.loc[user_df[\"user\"] == user[\"user_name\"]][\"fic_info\"]\n",
    "            if len(l) > 0:\n",
    "                for i in l:\n",
    "                    for j in i:\n",
    "                        for k in j:\n",
    "                            if 'fic_link' in k.keys():\n",
    "                                if k[\"fic_link\"] not in nodes_unformatted:\n",
    "                                    nodes.append([count, k[\"fic_link\"]])\n",
    "                                    nodes_unformatted.append(k[\"fic_link\"])\n",
    "                                    count += 1\n",
    "print(len(nodes))\n",
    "# nodes_df = pd.DataFrame(nodes, columns=[\"Id\",\"Label\"])\n",
    "# nodes_df.head()"
   ]
  },
  {
   "cell_type": "code",
   "execution_count": 5,
   "id": "4d84f696-ddb0-42a5-bb6b-6590544a865d",
   "metadata": {},
   "outputs": [],
   "source": [
    "nodes_df = pd.DataFrame(nodes, columns=[\"Id\",\"Label\"])\n",
    "nodes_df.head()\n",
    "nodes_df.to_csv(\"nodes_and_edges/common_fics_nodes_reformatted.csv\", index = False)"
   ]
  },
  {
   "cell_type": "code",
   "execution_count": 6,
   "id": "f5c1de4e-364c-4728-8fa8-9ac6281bd521",
   "metadata": {},
   "outputs": [
    {
     "data": {
      "text/plain": [
       "3"
      ]
     },
     "execution_count": 6,
     "metadata": {},
     "output_type": "execute_result"
    }
   ],
   "source": [
    "nodes_df.loc[nodes_df.Label == '/works/31830625','Id'].tolist()[0]"
   ]
  },
  {
   "cell_type": "code",
   "execution_count": 7,
   "id": "33d14b1e-f7e2-4946-a429-ea0a248b9aab",
   "metadata": {},
   "outputs": [
    {
     "name": "stdout",
     "output_type": "stream",
     "text": [
      "550902\n"
     ]
    }
   ],
   "source": [
    "edges = []\n",
    "tf_users = topfic_bookmarks[\"users\"].tolist()\n",
    "topfics = topfic_bookmarks[\"fic_info\"].tolist()\n",
    "users = user_df[\"user\"].tolist()\n",
    "for fic in topfics:\n",
    "    for users in tf_users:\n",
    "        for user in users:\n",
    "            l = user_df.loc[user_df[\"user\"] == user[\"user_name\"]][\"fic_info\"]\n",
    "            if len(l) > 0:\n",
    "                for i in l:\n",
    "                    for j in i:\n",
    "                        for k in j:\n",
    "                            if 'fic_link' in k.keys():\n",
    "                                target = nodes_df.loc[nodes_df.Label == k[\"fic_link\"],'Id'].tolist()[0]\n",
    "                                src = nodes_df.loc[nodes_df.Label == fic[\"fic_link\"],'Id'].tolist()[0]\n",
    "                                edges.append([src, target, \"Directed\"])\n",
    "print(len(edges))"
   ]
  },
  {
   "cell_type": "code",
   "execution_count": 8,
   "id": "f50875a3-6ade-464e-ab0e-c0ad60e80e62",
   "metadata": {},
   "outputs": [],
   "source": [
    "# tf_users = topfic_bookmarks[\"users\"].tolist()\n",
    "# topfics = topfic_bookmarks[\"fic_info\"].tolist()\n",
    "# users = user_df[\"user\"].tolist()\n",
    "# fics = []\n",
    "# for fic in topfics:\n",
    "#     for users in tf_users:\n",
    "#         for user in users:\n",
    "#             l = user_df.loc[user_df[\"user\"] == user[\"user_name\"]][\"fic_info\"]\n",
    "#             if len(l) > 0:\n",
    "#                 for i in l:\n",
    "#                     for j in i:\n",
    "#                         for k in j:\n",
    "#                             if 'fic_link' in k.keys():\n",
    "#                                 if fic[\"fic_link\"] != k[\"fic_link\"]:\n",
    "#                                     fics.append([fic[\"fic_link\"], k[\"fic_link\"]])\n",
    "                                    "
   ]
  },
  {
   "cell_type": "code",
   "execution_count": 9,
   "id": "4ec7b6f5-deff-4f8e-afc2-c05539d04b25",
   "metadata": {},
   "outputs": [
    {
     "data": {
      "text/html": [
       "<div>\n",
       "<style scoped>\n",
       "    .dataframe tbody tr th:only-of-type {\n",
       "        vertical-align: middle;\n",
       "    }\n",
       "\n",
       "    .dataframe tbody tr th {\n",
       "        vertical-align: top;\n",
       "    }\n",
       "\n",
       "    .dataframe thead th {\n",
       "        text-align: right;\n",
       "    }\n",
       "</style>\n",
       "<table border=\"1\" class=\"dataframe\">\n",
       "  <thead>\n",
       "    <tr style=\"text-align: right;\">\n",
       "      <th></th>\n",
       "      <th>Source</th>\n",
       "      <th>Target</th>\n",
       "      <th>Type</th>\n",
       "    </tr>\n",
       "  </thead>\n",
       "  <tbody>\n",
       "    <tr>\n",
       "      <th>0</th>\n",
       "      <td>1</td>\n",
       "      <td>1</td>\n",
       "      <td>Directed</td>\n",
       "    </tr>\n",
       "    <tr>\n",
       "      <th>1</th>\n",
       "      <td>1</td>\n",
       "      <td>2</td>\n",
       "      <td>Directed</td>\n",
       "    </tr>\n",
       "    <tr>\n",
       "      <th>2</th>\n",
       "      <td>1</td>\n",
       "      <td>3</td>\n",
       "      <td>Directed</td>\n",
       "    </tr>\n",
       "    <tr>\n",
       "      <th>3</th>\n",
       "      <td>1</td>\n",
       "      <td>4</td>\n",
       "      <td>Directed</td>\n",
       "    </tr>\n",
       "    <tr>\n",
       "      <th>4</th>\n",
       "      <td>1</td>\n",
       "      <td>5</td>\n",
       "      <td>Directed</td>\n",
       "    </tr>\n",
       "    <tr>\n",
       "      <th>...</th>\n",
       "      <td>...</td>\n",
       "      <td>...</td>\n",
       "      <td>...</td>\n",
       "    </tr>\n",
       "    <tr>\n",
       "      <th>550897</th>\n",
       "      <td>8563</td>\n",
       "      <td>8878</td>\n",
       "      <td>Directed</td>\n",
       "    </tr>\n",
       "    <tr>\n",
       "      <th>550898</th>\n",
       "      <td>8563</td>\n",
       "      <td>8879</td>\n",
       "      <td>Directed</td>\n",
       "    </tr>\n",
       "    <tr>\n",
       "      <th>550899</th>\n",
       "      <td>8563</td>\n",
       "      <td>8880</td>\n",
       "      <td>Directed</td>\n",
       "    </tr>\n",
       "    <tr>\n",
       "      <th>550900</th>\n",
       "      <td>8563</td>\n",
       "      <td>8881</td>\n",
       "      <td>Directed</td>\n",
       "    </tr>\n",
       "    <tr>\n",
       "      <th>550901</th>\n",
       "      <td>8563</td>\n",
       "      <td>8882</td>\n",
       "      <td>Directed</td>\n",
       "    </tr>\n",
       "  </tbody>\n",
       "</table>\n",
       "<p>550902 rows × 3 columns</p>\n",
       "</div>"
      ],
      "text/plain": [
       "        Source  Target      Type\n",
       "0            1       1  Directed\n",
       "1            1       2  Directed\n",
       "2            1       3  Directed\n",
       "3            1       4  Directed\n",
       "4            1       5  Directed\n",
       "...        ...     ...       ...\n",
       "550897    8563    8878  Directed\n",
       "550898    8563    8879  Directed\n",
       "550899    8563    8880  Directed\n",
       "550900    8563    8881  Directed\n",
       "550901    8563    8882  Directed\n",
       "\n",
       "[550902 rows x 3 columns]"
      ]
     },
     "execution_count": 9,
     "metadata": {},
     "output_type": "execute_result"
    }
   ],
   "source": [
    "fics_df = pd.DataFrame(edges, columns = [\"Source\", \"Target\", \"Type\"])\n",
    "fics_df"
   ]
  },
  {
   "cell_type": "code",
   "execution_count": 10,
   "id": "ad7f176f-89f7-4ffd-bf9a-d760df680df8",
   "metadata": {},
   "outputs": [],
   "source": [
    "#we can go through and graph it here, but I am going to export and go to a different software for faster graphing\n",
    "fics_df.to_csv(\"nodes_and_edges/common_fics_edges_reformatted.csv\", index = False)\n",
    "# fic1 = fics_df[\"ficA\"].tolist()\n",
    "# fic2 = fics_df[\"ficB\"].tolist()\n",
    "# i = 0;\n",
    "# g = nx.Graph()\n",
    "# while i < 10000:\n",
    "#     g.add_edge(fic1[i], fic2[i])\n",
    "#     i+=1\n",
    "# print(nx.info(g))"
   ]
  },
  {
   "cell_type": "code",
   "execution_count": 11,
   "id": "28aacf90-c722-4e53-9b0f-c60eaa74c9f6",
   "metadata": {},
   "outputs": [],
   "source": [
    "# pos = nx.spring_layout(g)\n",
    "# betCent = nx.betweenness_centrality(g, normalized=True, endpoints=True)\n",
    "# node_color = [20000.0 * g.degree(v) for v in g]\n",
    "# node_size =  [v * 10000 for v in betCent.values()]\n",
    "# plt.figure(figsize=(10,10))\n",
    "# nx.draw_networkx(g, pos=pos, with_labels=False,\n",
    "#                  node_color=node_color,\n",
    "#                  node_size=node_size )\n",
    "# plt.axis('off');"
   ]
  },
  {
   "cell_type": "markdown",
   "id": "cba6dbd4-2efa-45c3-8a38-538510a9116b",
   "metadata": {},
   "source": [
    "### Common Fandoms\n",
    "Lets look at the common fandoms based on bookmarking a top-fic."
   ]
  },
  {
   "cell_type": "code",
   "execution_count": 12,
   "id": "347321c9-b50a-4bee-9bf3-5b9af3529c79",
   "metadata": {},
   "outputs": [
    {
     "name": "stdout",
     "output_type": "stream",
     "text": [
      "1326\n"
     ]
    }
   ],
   "source": [
    "fandom_nodes = []\n",
    "nodes_unformatted = []\n",
    "tf_users = topfic_bookmarks[\"users\"].tolist()\n",
    "topfics = topfic_bookmarks[\"fandom\"].tolist()\n",
    "users = user_df[\"user\"].tolist()\n",
    "count = 1\n",
    "for fic in topfics:\n",
    "    for users in tf_users:\n",
    "        for user in users:\n",
    "            l = user_df.loc[user_df[\"user\"] == user[\"user_name\"]][\"fandoms\"]\n",
    "            if len(l) > 0:\n",
    "                for i in l:\n",
    "                    for j in i:\n",
    "                        for k in j:\n",
    "                            if 'fandom_name' in k.keys():\n",
    "                                if k[\"fandom_name\"] not in nodes_unformatted:\n",
    "                                    fandom_nodes.append([count, k[\"fandom_name\"]])\n",
    "                                    nodes_unformatted.append(k[\"fandom_name\"])\n",
    "                                    count += 1\n",
    "print(len(fandom_nodes))\n",
    "# nodes_df = pd.DataFrame(nodes, columns=[\"Id\",\"Label\"])\n",
    "# nodes_df.head()\n",
    "# fandom_nodes = []\n",
    "# for node in fandoms_df[\"fandomA\"].tolist():\n",
    "#     if node not in fandom_nodes:\n",
    "#         fandom_nodes.append(node)\n",
    "# for node in fandoms_df[\"fandomB\"].tolist():\n",
    "#     if node not in fandom_nodes:\n",
    "#         fandom_nodes.append(node)\n",
    "# fandom_nodes_df = pd.DataFrame(fandom_nodes, columns=[\"fandom_nodes\"])\n",
    "# fandom_nodes_df.head()"
   ]
  },
  {
   "cell_type": "code",
   "execution_count": 13,
   "id": "94c9f8f1-1c09-4c4d-967c-44cb36c8ec5f",
   "metadata": {},
   "outputs": [],
   "source": [
    "fandom_nodes_df = pd.DataFrame(fandom_nodes, columns=[\"Id\", \"Label\"])\n",
    "fandom_nodes_df.head()\n",
    "fandom_nodes_df.to_csv(\"nodes_and_edges/common_fandoms_nodes_reformatted.csv\", index = False)"
   ]
  },
  {
   "cell_type": "code",
   "execution_count": 14,
   "id": "2f659ac2-95a7-47f1-94ff-91d6d9a75232",
   "metadata": {},
   "outputs": [],
   "source": [
    "tf_users = topfic_bookmarks[\"users\"].tolist()\n",
    "topfics = topfic_bookmarks[\"fandom\"].tolist()\n",
    "users = user_df[\"user\"].tolist()\n",
    "fandom_egdes = []\n",
    "for fandom in topfics:\n",
    "    for users in tf_users:\n",
    "        for user in users:\n",
    "            l = user_df.loc[user_df[\"user\"] == user[\"user_name\"]][\"fandoms\"]\n",
    "            if len(l) > 0:\n",
    "                for i in l:\n",
    "                    for j in i:\n",
    "                        for k in j:\n",
    "                            if 'fandom_name' in k.keys():\n",
    "                                target = fandom_nodes_df.loc[fandom_nodes_df.Label == k[\"fandom_name\"],'Id'].tolist()\n",
    "                                src = fandom_nodes_df.loc[fandom_nodes_df.Label == fandom,'Id'].tolist()\n",
    "                                if len(src) > 0 and len(target) > 0:\n",
    "                                    src = src[0]\n",
    "                                    target = target[0]\n",
    "                                    fandom_egdes.append([src, target, \"Directed\"])"
   ]
  },
  {
   "cell_type": "code",
   "execution_count": 15,
   "id": "89831fe8-c6fe-41ad-9fef-a4800e8f899c",
   "metadata": {},
   "outputs": [],
   "source": [
    "fandoms_df = pd.DataFrame(fandom_egdes, columns = [\"Source\", \"Target\", \"Type\"])"
   ]
  },
  {
   "cell_type": "code",
   "execution_count": 16,
   "id": "522cac57-6087-4bd7-89d0-ae643124ecc3",
   "metadata": {},
   "outputs": [],
   "source": [
    "fandoms_df.to_csv(\"nodes_and_edges/common_fandoms_edges_reformatted.csv\", index = False)"
   ]
  },
  {
   "cell_type": "code",
   "execution_count": 17,
   "id": "4be7f656-b720-4c40-8d2f-b493466fca6a",
   "metadata": {},
   "outputs": [
    {
     "name": "stdout",
     "output_type": "stream",
     "text": [
      "   Source  Target        Type\n",
      "0       1       1  Undirected\n",
      "1       1       2  Undirected\n",
      "2       1       3  Undirected\n",
      "3       1       4  Undirected\n",
      "4       1       3  Undirected\n",
      "1326\n"
     ]
    }
   ],
   "source": [
    "#trying to get smaller graphs, lets look at My Hero Academia and Naruto\n",
    "'''\n",
    "My Hero Academia are both shounen anime/manga so lets see if there are any similarities within the fandoms people bookmark after they bookmarked one of their top-fics.\n",
    "These are nodes 1 and 36\n",
    "'''\n",
    "#subset data to only edges with src = 1 or 36 then subset node list\n",
    "believe_it = fandoms_df[fandoms_df[\"Source\"].isin([1, 36])]\n",
    "believe_it[\"Type\"] = \"Undirected\"\n",
    "print(believe_it.head())\n",
    "\n",
    "nodes = []\n",
    "nodes_unformatted = []\n",
    "for idx, row in believe_it.iterrows():\n",
    "    temp = fandom_nodes_df.loc[fandom_nodes_df['Id'] == row[\"Target\"]][\"Label\"].tolist()\n",
    "    if len(temp)>0:\n",
    "        if row[\"Target\"] not in nodes_unformatted:\n",
    "            nodes.append([row[\"Target\"], temp[0]])\n",
    "            nodes_unformatted.append(row[\"Target\"])\n",
    "print(len(nodes))"
   ]
  },
  {
   "cell_type": "code",
   "execution_count": 18,
   "id": "e708a678-14dd-42ce-8210-c45fc68fef8f",
   "metadata": {},
   "outputs": [],
   "source": [
    "quirks = pd.DataFrame(nodes, columns=[\"Id\", \"Label\"])\n",
    "quirks.head()\n",
    "quirks.to_csv(\"nodes_and_edges/mha_nar_nodes_reformatted.csv\", index = False)"
   ]
  },
  {
   "cell_type": "code",
   "execution_count": 19,
   "id": "ae2de50a-441e-48a7-ab78-950a969eca7e",
   "metadata": {},
   "outputs": [],
   "source": [
    "believe_it.to_csv(\"nodes_and_edges/mha_nar_edges_reformatted.csv\", index = False)"
   ]
  },
  {
   "cell_type": "code",
   "execution_count": 21,
   "id": "73f0bc85-cf01-44e7-95b8-cf09214b5353",
   "metadata": {},
   "outputs": [
    {
     "name": "stdout",
     "output_type": "stream",
     "text": [
      "1326\n"
     ]
    }
   ],
   "source": [
    "'''\n",
    "Let's try looking at the most popular fandoms based on our analysis from before: Marvel, RPF, KPop\n",
    "'''\n",
    "#subset data to only edges with src = 1 or 36 then subset node list\n",
    "df1 = fandoms_df[fandoms_df[\"Source\"].isin([32, 733, 744])]\n",
    "df1[\"Type\"] = \"Undirected\"\n",
    "df1\n",
    "\n",
    "nodes = []\n",
    "nodes_unformatted = []\n",
    "for idx, row in df1.iterrows():\n",
    "    temp = fandom_nodes_df.loc[fandom_nodes_df['Id'] == row[\"Target\"]][\"Label\"].tolist()\n",
    "    if len(temp)>0:\n",
    "        if row[\"Target\"] not in nodes_unformatted:\n",
    "            nodes.append([row[\"Target\"], temp[0]])\n",
    "            nodes_unformatted.append(row[\"Target\"])\n",
    "print(len(nodes))\n",
    "df2 = pd.DataFrame(nodes, columns=[\"Id\", \"Label\"])\n",
    "df2.head()\n",
    "df2.to_csv(\"nodes_and_edges/top3_nodes_reformatted.csv\", index = False)\n",
    "df1.to_csv(\"nodes_and_edges/top3_edges_reformatted.csv\", index = False)"
   ]
  },
  {
   "cell_type": "code",
   "execution_count": 22,
   "id": "a2eb84bb-be3a-4153-9989-d026eb1ee2ef",
   "metadata": {},
   "outputs": [
    {
     "name": "stdout",
     "output_type": "stream",
     "text": [
      "1326\n"
     ]
    }
   ],
   "source": [
    "'''\n",
    "Let's try looking at the two less popular fandoms animes and see if it sticks in the genre or not. Attack on Titan and Miraculous Ladybug\n",
    "'''\n",
    "#subset data to only edges with src = 1 or 36 then subset node list\n",
    "anime1 = fandoms_df[fandoms_df[\"Source\"].isin([7, 90])]\n",
    "anime1[\"Type\"] = \"Undirected\"\n",
    "#print(anime1)\n",
    "\n",
    "nodes = []\n",
    "nodes_unformatted = []\n",
    "for idx, row in anime1.iterrows():\n",
    "    temp = fandom_nodes_df.loc[fandom_nodes_df['Id'] == row[\"Target\"]][\"Label\"].tolist()\n",
    "    if len(temp)>0:\n",
    "        if row[\"Target\"] not in nodes_unformatted:\n",
    "            nodes.append([row[\"Target\"], temp[0]])\n",
    "            nodes_unformatted.append(row[\"Target\"])\n",
    "print(len(nodes))\n",
    "anime2 = pd.DataFrame(nodes, columns=[\"Id\", \"Label\"])\n",
    "anime2.head()\n",
    "anime2.to_csv(\"nodes_and_edges/anime3_nodes_reformatted.csv\", index = False)\n",
    "anime1.to_csv(\"nodes_and_edges/anime3_edges_reformatted.csv\", index = False)"
   ]
  },
  {
   "cell_type": "code",
   "execution_count": 23,
   "id": "a70c44f1-46a6-48bc-857a-e7fc66a08c09",
   "metadata": {},
   "outputs": [
    {
     "name": "stdout",
     "output_type": "stream",
     "text": [
      "1326\n"
     ]
    }
   ],
   "source": [
    "'''\n",
    "Let's try looking at the two less popular fandoms in the musical category and see if it sticks in the genre or not. \n",
    "Hamilton - Miranda, Newsies - All Media Types, and Be More Chill - Iconis/Tracz\n",
    "'''\n",
    "#subset data to only edges with src = 1 or 36 then subset node list\n",
    "musical1 = fandoms_df[fandoms_df[\"Source\"].isin([152,1236, 815])]\n",
    "musical1[\"Type\"] = \"Undirected\"\n",
    "#print(anime1)\n",
    "\n",
    "nodes = []\n",
    "nodes_unformatted = []\n",
    "for idx, row in musical1.iterrows():\n",
    "    temp = fandom_nodes_df.loc[fandom_nodes_df['Id'] == row[\"Target\"]][\"Label\"].tolist()\n",
    "    if len(temp)>0:\n",
    "        if row[\"Target\"] not in nodes_unformatted:\n",
    "            nodes.append([row[\"Target\"], temp[0]])\n",
    "            nodes_unformatted.append(row[\"Target\"])\n",
    "print(len(nodes))\n",
    "musical2 = pd.DataFrame(nodes, columns=[\"Id\", \"Label\"])\n",
    "musical2.head()\n",
    "musical2.to_csv(\"nodes_and_edges/musical3_nodes_reformatted.csv\", index = False)\n",
    "musical1.to_csv(\"nodes_and_edges/musical3_edges_reformatted.csv\", index = False)"
   ]
  },
  {
   "cell_type": "code",
   "execution_count": null,
   "id": "8d3a06ef-076e-4f4c-8805-af6878b23eb9",
   "metadata": {},
   "outputs": [],
   "source": []
  }
 ],
 "metadata": {
  "kernelspec": {
   "display_name": "Python 3 (ipykernel)",
   "language": "python",
   "name": "python3"
  },
  "language_info": {
   "codemirror_mode": {
    "name": "ipython",
    "version": 3
   },
   "file_extension": ".py",
   "mimetype": "text/x-python",
   "name": "python",
   "nbconvert_exporter": "python",
   "pygments_lexer": "ipython3",
   "version": "3.9.5"
  }
 },
 "nbformat": 4,
 "nbformat_minor": 5
}
