{
 "cells": [
  {
   "cell_type": "markdown",
   "id": "1f46f0b2-9df5-4726-bd55-309cbe44af20",
   "metadata": {},
   "source": [
    "# Social Network Analysis\n",
    "## AO3 User Bookmarks\n",
    "\n",
    "The following is an analysis of the network created by users bookmarking fics on AO3.\n",
    "\n",
    "We used the [Social Network Analysis with Python](\"https://www.kirenz.com/post/2019-08-13-network_analysis/\") article by Jan Kirenz as a reference for our analysis."
   ]
  },
  {
   "cell_type": "code",
   "execution_count": 2,
   "id": "8ff756cd-3372-4c0f-a30c-20888abfcefb",
   "metadata": {},
   "outputs": [],
   "source": [
    "#imports\n",
    "import networkx as nx\n",
    "import matplotlib.pyplot as plt\n",
    "%matplotlib inline\n",
    "import warnings; warnings.simplefilter('ignore')\n",
    "import json\n",
    "import pandas as pd"
   ]
  },
  {
   "cell_type": "markdown",
   "id": "a0e33f67-68dc-4da0-a8c2-c15dd528a33c",
   "metadata": {},
   "source": [
    "First we must read in our data and format it so that we can make a graph of the data."
   ]
  },
  {
   "cell_type": "code",
   "execution_count": 7,
   "id": "c73d5c48-24da-47a4-91b4-345e4c3fe896",
   "metadata": {},
   "outputs": [
    {
     "data": {
      "text/html": [
       "<div>\n",
       "<style scoped>\n",
       "    .dataframe tbody tr th:only-of-type {\n",
       "        vertical-align: middle;\n",
       "    }\n",
       "\n",
       "    .dataframe tbody tr th {\n",
       "        vertical-align: top;\n",
       "    }\n",
       "\n",
       "    .dataframe thead th {\n",
       "        text-align: right;\n",
       "    }\n",
       "</style>\n",
       "<table border=\"1\" class=\"dataframe\">\n",
       "  <thead>\n",
       "    <tr style=\"text-align: right;\">\n",
       "      <th></th>\n",
       "      <th>fandom</th>\n",
       "      <th>total_bookmarks</th>\n",
       "      <th>users</th>\n",
       "      <th>fic_info</th>\n",
       "    </tr>\n",
       "  </thead>\n",
       "  <tbody>\n",
       "    <tr>\n",
       "      <th>0</th>\n",
       "      <td>僕のヒーローアカデミア | Boku no Hero Academia | My Hero ...</td>\n",
       "      <td>16100</td>\n",
       "      <td>[{'user_link': '/users/whole_grain_bagel/pseud...</td>\n",
       "      <td>{'fic_link': '/works/8337607', 'fic_name': 'Ye...</td>\n",
       "    </tr>\n",
       "    <tr>\n",
       "      <th>1</th>\n",
       "      <td>Haikyuu!!</td>\n",
       "      <td>11388</td>\n",
       "      <td>[{'user_link': '/users/artisticDragon074639/ps...</td>\n",
       "      <td>{'fic_link': '/works/5096105', 'fic_name': 'In...</td>\n",
       "    </tr>\n",
       "    <tr>\n",
       "      <th>2</th>\n",
       "      <td>Naruto</td>\n",
       "      <td>8451</td>\n",
       "      <td>[{'user_link': '/users/AllCrush/pseuds/AllCrus...</td>\n",
       "      <td>{'fic_link': '/works/8211566', 'fic_name': 'Of...</td>\n",
       "    </tr>\n",
       "    <tr>\n",
       "      <th>3</th>\n",
       "      <td>Shingeki no Kyojin | Attack on Titan</td>\n",
       "      <td>3809</td>\n",
       "      <td>[{'user_link': '/users/Frank_boi/pseuds/Frank_...</td>\n",
       "      <td>{'fic_link': '/works/2336534', 'fic_name': 'Ei...</td>\n",
       "    </tr>\n",
       "    <tr>\n",
       "      <th>4</th>\n",
       "      <td>Miraculous Ladybug</td>\n",
       "      <td>4335</td>\n",
       "      <td>[{'user_link': '/users/cook999/pseuds/cook999'...</td>\n",
       "      <td>{'fic_link': '/works/7568518', 'fic_name': 'Pi...</td>\n",
       "    </tr>\n",
       "  </tbody>\n",
       "</table>\n",
       "</div>"
      ],
      "text/plain": [
       "                                              fandom  total_bookmarks  \\\n",
       "0  僕のヒーローアカデミア | Boku no Hero Academia | My Hero ...            16100   \n",
       "1                                          Haikyuu!!            11388   \n",
       "2                                             Naruto             8451   \n",
       "3               Shingeki no Kyojin | Attack on Titan             3809   \n",
       "4                                 Miraculous Ladybug             4335   \n",
       "\n",
       "                                               users  \\\n",
       "0  [{'user_link': '/users/whole_grain_bagel/pseud...   \n",
       "1  [{'user_link': '/users/artisticDragon074639/ps...   \n",
       "2  [{'user_link': '/users/AllCrush/pseuds/AllCrus...   \n",
       "3  [{'user_link': '/users/Frank_boi/pseuds/Frank_...   \n",
       "4  [{'user_link': '/users/cook999/pseuds/cook999'...   \n",
       "\n",
       "                                            fic_info  \n",
       "0  {'fic_link': '/works/8337607', 'fic_name': 'Ye...  \n",
       "1  {'fic_link': '/works/5096105', 'fic_name': 'In...  \n",
       "2  {'fic_link': '/works/8211566', 'fic_name': 'Of...  \n",
       "3  {'fic_link': '/works/2336534', 'fic_name': 'Ei...  \n",
       "4  {'fic_link': '/works/7568518', 'fic_name': 'Pi...  "
      ]
     },
     "execution_count": 7,
     "metadata": {},
     "output_type": "execute_result"
    }
   ],
   "source": [
    "#read in data\n",
    "topfic_bookmarks = pd.read_json('../ao3bot/top_fic_bookmarks.json')\n",
    "topfic_bookmarks.head()\n"
   ]
  },
  {
   "cell_type": "code",
   "execution_count": 5,
   "id": "cdd1b11d-3eb8-44a1-b479-9dfc81221597",
   "metadata": {},
   "outputs": [
    {
     "data": {
      "text/html": [
       "<div>\n",
       "<style scoped>\n",
       "    .dataframe tbody tr th:only-of-type {\n",
       "        vertical-align: middle;\n",
       "    }\n",
       "\n",
       "    .dataframe tbody tr th {\n",
       "        vertical-align: top;\n",
       "    }\n",
       "\n",
       "    .dataframe thead th {\n",
       "        text-align: right;\n",
       "    }\n",
       "</style>\n",
       "<table border=\"1\" class=\"dataframe\">\n",
       "  <thead>\n",
       "    <tr style=\"text-align: right;\">\n",
       "      <th></th>\n",
       "      <th>user</th>\n",
       "      <th>fic_info</th>\n",
       "      <th>fandoms</th>\n",
       "      <th>user_stats</th>\n",
       "    </tr>\n",
       "  </thead>\n",
       "  <tbody>\n",
       "    <tr>\n",
       "      <th>0</th>\n",
       "      <td>Watermelonflooff</td>\n",
       "      <td>[[{'fic_link': '/works/8337607', 'fic_name': '...</td>\n",
       "      <td>[[{'fandom_link': '/tags/%E5%83%95%E3%81%AE%E3...</td>\n",
       "      <td>{'total_bookmarks': 18, 'ratings': {'Explicit'...</td>\n",
       "    </tr>\n",
       "    <tr>\n",
       "      <th>1</th>\n",
       "      <td>SanguineRoar</td>\n",
       "      <td>[[{'fic_link': '/works/24273403', 'fic_name': ...</td>\n",
       "      <td>[[{'fandom_link': '/tags/%E5%83%95%E3%81%AE%E3...</td>\n",
       "      <td>{'total_bookmarks': 263, 'ratings': {'Explicit...</td>\n",
       "    </tr>\n",
       "    <tr>\n",
       "      <th>2</th>\n",
       "      <td>duhvy</td>\n",
       "      <td>[[{'fic_link': '/works/8337607', 'fic_name': '...</td>\n",
       "      <td>[[{'fandom_link': '/tags/%E5%83%95%E3%81%AE%E3...</td>\n",
       "      <td>{'total_bookmarks': 53, 'ratings': {'Teen And ...</td>\n",
       "    </tr>\n",
       "    <tr>\n",
       "      <th>3</th>\n",
       "      <td>Sther_2515</td>\n",
       "      <td>[[{'fic_link': '/works/8337607', 'fic_name': '...</td>\n",
       "      <td>[[{'fandom_link': '/tags/%E5%83%95%E3%81%AE%E3...</td>\n",
       "      <td>{'total_bookmarks': 143, 'ratings': {'Teen And...</td>\n",
       "    </tr>\n",
       "    <tr>\n",
       "      <th>4</th>\n",
       "      <td>BlackCat666</td>\n",
       "      <td>[[{'fic_link': '/series/56292', 'fic_name': 'T...</td>\n",
       "      <td>[[{'fandom_link': '/tags/Teen%20Wolf%20(TV)/wo...</td>\n",
       "      <td>{'total_bookmarks': 410, 'ratings': {'Teen And...</td>\n",
       "    </tr>\n",
       "  </tbody>\n",
       "</table>\n",
       "</div>"
      ],
      "text/plain": [
       "               user                                           fic_info  \\\n",
       "0  Watermelonflooff  [[{'fic_link': '/works/8337607', 'fic_name': '...   \n",
       "1      SanguineRoar  [[{'fic_link': '/works/24273403', 'fic_name': ...   \n",
       "2             duhvy  [[{'fic_link': '/works/8337607', 'fic_name': '...   \n",
       "3        Sther_2515  [[{'fic_link': '/works/8337607', 'fic_name': '...   \n",
       "4       BlackCat666  [[{'fic_link': '/series/56292', 'fic_name': 'T...   \n",
       "\n",
       "                                             fandoms  \\\n",
       "0  [[{'fandom_link': '/tags/%E5%83%95%E3%81%AE%E3...   \n",
       "1  [[{'fandom_link': '/tags/%E5%83%95%E3%81%AE%E3...   \n",
       "2  [[{'fandom_link': '/tags/%E5%83%95%E3%81%AE%E3...   \n",
       "3  [[{'fandom_link': '/tags/%E5%83%95%E3%81%AE%E3...   \n",
       "4  [[{'fandom_link': '/tags/Teen%20Wolf%20(TV)/wo...   \n",
       "\n",
       "                                          user_stats  \n",
       "0  {'total_bookmarks': 18, 'ratings': {'Explicit'...  \n",
       "1  {'total_bookmarks': 263, 'ratings': {'Explicit...  \n",
       "2  {'total_bookmarks': 53, 'ratings': {'Teen And ...  \n",
       "3  {'total_bookmarks': 143, 'ratings': {'Teen And...  \n",
       "4  {'total_bookmarks': 410, 'ratings': {'Teen And...  "
      ]
     },
     "execution_count": 5,
     "metadata": {},
     "output_type": "execute_result"
    }
   ],
   "source": [
    "user_df = pd.read_json('../ao3bot/user_bookmarks_final.json')\n",
    "user_df.head()"
   ]
  },
  {
   "cell_type": "markdown",
   "id": "1921b296-ebbe-4cbc-a44a-98846b1306a8",
   "metadata": {},
   "source": [
    "This data is set up such that in `user_df` we have the `user` whose bookmarks we scraped, the `fic_info` of the bookmarks and the `fandoms` associated with those bookmarks. We also have the general stats of their bookmarks in `user_stats`.\n",
    "\n",
    "In `topfic_bookmarks` we have the information on the top fics in each fandom we have scraped and the users that have bookmarked it. This is the starting file that guiding the scraping for the `user_df` data."
   ]
  },
  {
   "cell_type": "markdown",
   "id": "198e4f7b-b1bd-4d7a-a05e-3a50c0b9cfec",
   "metadata": {},
   "source": [
    "### Common Bookmarks\n",
    "\n",
    "In this analysis we will be looking at the data in this way:\n",
    "- Nodes: Fic\n",
    "- Edges: A user has bookmarked this node (fic) and this node (fic)\n",
    "\n",
    "To do this we will need to wrangle the data into the correct format."
   ]
  },
  {
   "cell_type": "code",
   "execution_count": null,
   "id": "f50875a3-6ade-464e-ab0e-c0ad60e80e62",
   "metadata": {},
   "outputs": [],
   "source": []
  }
 ],
 "metadata": {
  "kernelspec": {
   "display_name": "Python 3 (ipykernel)",
   "language": "python",
   "name": "python3"
  },
  "language_info": {
   "codemirror_mode": {
    "name": "ipython",
    "version": 3
   },
   "file_extension": ".py",
   "mimetype": "text/x-python",
   "name": "python",
   "nbconvert_exporter": "python",
   "pygments_lexer": "ipython3",
   "version": "3.9.5"
  }
 },
 "nbformat": 4,
 "nbformat_minor": 5
}
